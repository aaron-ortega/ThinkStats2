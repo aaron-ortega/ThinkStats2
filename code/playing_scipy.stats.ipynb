{
 "cells": [
  {
   "cell_type": "markdown",
   "metadata": {},
   "source": [
    "## Playing w/ scipy.stats\n",
    "\n",
    "Scipy Tutorial:<br>\n",
    "https://docs.scipy.org/doc/scipy/reference/tutorial/stats.html#special-tests-for-normal-distributions"
   ]
  },
  {
   "cell_type": "code",
   "execution_count": 290,
   "metadata": {},
   "outputs": [],
   "source": [
    "from scipy import stats\n",
    "import numpy as np\n",
    "import matplotlib.pyplot as plt\n",
    "import seaborn as sns\n",
    "import pkg_resources"
   ]
  },
  {
   "cell_type": "code",
   "execution_count": 291,
   "metadata": {},
   "outputs": [
    {
     "name": "stdout",
     "output_type": "stream",
     "text": [
      "scipy: 1.1.0\n",
      "matplotlib: 3.0.0\n",
      "numpy: 1.14.0\n",
      "seaborn: 0.9.0\n"
     ]
    }
   ],
   "source": [
    "modules = 'scipy,matplotlib,numpy,seaborn'.split(',')\n",
    "for mod in modules:\n",
    "    version = pkg_resources.get_distribution(mod).version\n",
    "    print('{}: {}'.format(mod, version))"
   ]
  },
  {
   "cell_type": "markdown",
   "metadata": {},
   "source": [
    "#### Scipy.stats offers a wide variety of discrete and continuous distributions. <br>\n",
    "Let's see some"
   ]
  },
  {
   "cell_type": "code",
   "execution_count": 133,
   "metadata": {},
   "outputs": [
    {
     "data": {
      "text/plain": [
       "<scipy.stats._distn_infrastructure.rv_frozen at 0x11648f898>"
      ]
     },
     "execution_count": 133,
     "metadata": {},
     "output_type": "execute_result"
    }
   ],
   "source": [
    "\"\"\"\n",
    "distributions can be define simply\n",
    "stats.[name_of_distribution](**kwargs)\n",
    "\n",
    "Note: \n",
    "**kwargs = keyword_arguments \n",
    "*args = arguments (values)\n",
    "\"\"\"\n",
    "\n",
    "# define normal distribution\n",
    "normal = stats.norm(loc=0, scale=1)\n",
    "normal"
   ]
  },
  {
   "cell_type": "code",
   "execution_count": 139,
   "metadata": {},
   "outputs": [
    {
     "name": "stdout",
     "output_type": "stream",
     "text": [
      "4\n",
      "[ 1.05354341  0.01592683 -1.01197736  0.00882411]\n"
     ]
    }
   ],
   "source": [
    "\"\"\"\n",
    "To draw a sample from a distribution,\n",
    "OR to draw an outcome from a distribution,\n",
    "OR a realization of a random variable (rv) which follows a certain distribution\n",
    "(all mean the same thing)\n",
    "\n",
    "we write\n",
    "\n",
    "stats.norm(**kwargs).rvs(size=NUMBER)\n",
    "OR\n",
    "normal.rvs(size=NUMBER)\n",
    "\n",
    "Size specifies how many draws we want\n",
    "Returns - numpy array of size NUMBER\n",
    "\"\"\"\n",
    "sample = normal.rvs(size=4)\n",
    "print(sample.size)\n",
    "print(sample)"
   ]
  },
  {
   "cell_type": "code",
   "execution_count": 164,
   "metadata": {},
   "outputs": [
    {
     "name": "stdout",
     "output_type": "stream",
     "text": [
      "first 10 coint filps:  [1 0 0 1 0 0 1 1 0 1]\n",
      "first 10 temp samples: \n",
      " [66.18738934 68.92011726 67.92007188 66.90099765 68.81974357 67.2689687\n",
      " 66.84677641 67.99885604 67.61509052 67.27669978]\n"
     ]
    }
   ],
   "source": [
    "\"\"\"\n",
    "Taking a step back, what is a distribution in a statistical context?\n",
    "\n",
    "(Ignoring jargon)\n",
    "A distribution tells you the probability of getting a value from a range of possible values which are\n",
    "gathered from a repeatable experiment, natural process, etc.\n",
    "\n",
    "Let's look the two categories for distributions and give examples:\n",
    "1. discrete distributions\n",
    "2. continuous distributions\n",
    "\"\"\"\n",
    "# https://docs.scipy.org/doc/scipy/reference/tutorial/stats/discrete_bernoulli.html\n",
    "\n",
    "bern = stats.bernoulli(p=0.5)\n",
    "sample_bern = bern.rvs(size=100)\n",
    "print('first 10 coint filps: ', sample_bern[:10])\n",
    "\n",
    "\"\"\"\n",
    "Above we defined Bernoulli's distribution and it's discrete\n",
    "What does discrete mean?\n",
    "\n",
    "A distribution is discrete when all the possible outcomes, or values, can be counted.\n",
    "An example, and what bern can model, is a flip of coin. Only two possible outcomes\n",
    "which are heads/tails, or to make it countable 0/1. Each having a 0.5, or 50%, chance of occurring.\n",
    "\n",
    "A continuous distribution, on the other hand, is not countable.\n",
    "An example is temperature. Sure the thermometer can say it's 68F, that's an aproximation. It can be 68.0001F, 68.00001F, and\n",
    "so on, with the point being that there's too many values to count.\n",
    "\"\"\"\n",
    "\n",
    "temp = stats.norm(loc=68, scale=1)\n",
    "sample_temp = temp.rvs(size=10)\n",
    "print('first 10 temp samples: \\n', sample_temp[:10])"
   ]
  },
  {
   "cell_type": "code",
   "execution_count": 156,
   "metadata": {
    "scrolled": true
   },
   "outputs": [
    {
     "data": {
      "text/plain": [
       "57"
      ]
     },
     "execution_count": 156,
     "metadata": {},
     "output_type": "execute_result"
    }
   ],
   "source": [
    "foo = bern.rvs(size=100)\n",
    "foo[foo ==0].size"
   ]
  },
  {
   "cell_type": "code",
   "execution_count": 10,
   "metadata": {},
   "outputs": [
    {
     "data": {
      "image/png": "[encoded data removed]",
      "text/plain": [
       "<Figure size 432x288 with 1 Axes>"
      ]
     },
     "metadata": {},
     "output_type": "display_data"
    }
   ],
   "source": [
    "# getting probability for values ranging from -3σ to 3σ\n",
    "\n",
    "def normal_pdf(mean=0, var=1):\n",
    "    x = np.linspace(-3*var, 3*var, 25)\n",
    "    y = normal.pdf(x)\n",
    "    \n",
    "    return x, y\n",
    "x, y = normal_pdf()\n",
    "plt.scatter(x, y, color='orange')\n",
    "plt.plot(x, y, color='orange')\n",
    "#plt.axvline(x=0, ymax=0.9, linestyle='--', color='k')\n",
    "#plt.xticks(range(-10, 10))\n",
    "plt.show()"
   ]
  },
  {
   "cell_type": "code",
   "execution_count": 144,
   "metadata": {
    "scrolled": true
   },
   "outputs": [
    {
     "data": {
      "image/png": "[encoded data removed]",
      "text/plain": [
       "<Figure size 432x288 with 1 Axes>"
      ]
     },
     "metadata": {},
     "output_type": "display_data"
    }
   ],
   "source": [
    "def normal_cdf(mean=0, var=1):\n",
    "    x = np.linspace(-3*var, 3*var, 25)\n",
    "    y = normal.cdf(x)\n",
    "    \n",
    "    return x, y\n",
    "\n",
    "x,y = normal_cdf()\n",
    "plt.scatter(x, y)\n",
    "plt.plot(x, y)\n",
    "plt.fill_between(x=x[:13], y1=y[:13], alpha=0.4)\n",
    "plt.show()"
   ]
  },
  {
   "cell_type": "code",
   "execution_count": 94,
   "metadata": {},
   "outputs": [],
   "source": [
    "a = np.polyfit(x=normal_sample, y=unknown_sample, deg=1)\n",
    "slope, y_int, *_ = stats.linregress(x=normal_sample, y=unknown_sample)"
   ]
  },
  {
   "cell_type": "code",
   "execution_count": 125,
   "metadata": {},
   "outputs": [
    {
     "name": "stdout",
     "output_type": "stream",
     "text": [
      "Below we can see that our \"unknown\" distribution can be treated as a normal since it looks like a straight line.\n"
     ]
    },
    {
     "data": {
      "image/png": "[encoded data removed]",
      "text/plain": [
       "<Figure size 432x288 with 2 Axes>"
      ]
     },
     "metadata": {},
     "output_type": "display_data"
    }
   ],
   "source": [
    "\"\"\"\n",
    "Normality test:\n",
    "1. Take sample data and sort it\n",
    "2. Generate rvs from a normal distribution of size sample data and sort it\n",
    "3. Plot\n",
    "Result:\n",
    "Straight line implies sample data can be treated as a normal distribution\n",
    "\"\"\"\n",
    "# exponential distribution & samples\n",
    "exp = stats.expon(loc=0, scale=1)  \n",
    "exp_sample = exp.rvs(size=1000)\n",
    "\n",
    "# we image that we don't know it's normal\n",
    "unknown_sample = normal.rvs(size=1000)  \n",
    "\n",
    "# normal sample\n",
    "normal_sample = normal.rvs(size=1000)\n",
    "\n",
    "# sort\n",
    "exp_sample.sort()\n",
    "unknown_sample.sort()\n",
    "normal_sample.sort()\n",
    "\n",
    "# line fitting aka linear regression\n",
    "def linear_fit(x, y):\n",
    "    \n",
    "    slope, y_intercept, *_ = stats.linregress(x, y)\n",
    "    line = slope * x + y_intercept\n",
    "    return line\n",
    "     \n",
    "# plotting\n",
    "fig, axes = plt.subplots(1, 2, sharex=True,)\n",
    "    \n",
    "axes[0].plot(normal_sample, exp_sample)\n",
    "axes[0].plot(normal_sample, linear_fit(normal_sample, exp_sample), '--', label='linear fit')\n",
    "axes[0].set_title('Exp vs Normal')\n",
    "\n",
    "axes[1].plot(normal_sample, unknown_sample, linewidth=3)\n",
    "axes[1].plot(normal_sample, linear_fit(normal_sample, unknown_sample), '--', label='linear fit')\n",
    "axes[1].set_title('Unknown vs Normal')\n",
    "axes[0].legend()\n",
    "fig.tight_layout()\n",
    "\n",
    "\n",
    "print('Below we can see that our \"unknown\" distribution can be treated as a normal \\\n",
    "since it looks like a straight line.')"
   ]
  },
  {
   "cell_type": "code",
   "execution_count": 127,
   "metadata": {
    "scrolled": true
   },
   "outputs": [
    {
     "data": {
      "image/png": "[encoded data removed]",
      "text/plain": [
       "<Figure size 432x288 with 2 Axes>"
      ]
     },
     "metadata": {},
     "output_type": "display_data"
    }
   ],
   "source": [
    "# cleaner plotting\n",
    "\n",
    "fig, axes = plt.subplots(1, 2, sharex=True,)\n",
    "samples = [exp_sample, unknown_sample]\n",
    "titles = ['Exp vs Normal', 'Unknown vs Normal']\n",
    "for ax, s, t in zip(axes, samples, titles):\n",
    "    ax.plot(normal_sample, s)\n",
    "    ax.plot(normal_sample, linear_fit(normal_sample, s), '--', label='linear fit')\n",
    "    ax.set_title(t)\n",
    "    \n",
    "fig.tight_layout()    "
   ]
  },
  {
   "cell_type": "code",
   "execution_count": 293,
   "metadata": {
    "collapsed": true
   },
   "outputs": [
    {
     "data": {
      "image/png": "[encoded data removed]",
      "text/plain": [
       "<Figure size 432x288 with 1 Axes>"
      ]
     },
     "metadata": {},
     "output_type": "display_data"
    }
   ],
   "source": [
    "# pareto distribution\n",
    "# https://docs.scipy.org/doc/scipy/reference/generated/scipy.stats.pareto.html\n",
    "par = stats.pareto(b=b)\n",
    "\n",
    "xs = np.linspace(par.ppf(0.01), par.ppf(0.99), 100)\n",
    "sample_pareto = par.pdf(xs)\n",
    "\n",
    "plt.plot(xs, sample_pareto, label='pdf')\n",
    "plt.hist(par.rvs(size=100), alpha=0.3, bins=20, density=True)\n",
    "plt.legend()\n",
    "plt.tight_layout()"
   ]
  },
  {
   "cell_type": "code",
   "execution_count": 262,
   "metadata": {},
   "outputs": [],
   "source": [
    "\"\"\"\n",
    "Parameters:\n",
    "pdf - numpy array w/ draws from a pdf\n",
    "Returns:\n",
    "cdf - numpy array w/ decimal values corresponding to percentages\n",
    "\"\"\"\n",
    "def get_cdf(pdf):\n",
    "    pdf.sort()\n",
    "    cdf = np.array([(pdf[pdf<=val].size / pdf.size) for val in pdf])\n",
    "    return cdf"
   ]
  },
  {
   "cell_type": "code",
   "execution_count": 334,
   "metadata": {
    "collapsed": true
   },
   "outputs": [
    {
     "data": {
      "text/plain": [
       "array([0.01      , 0.12498422, 0.22230378, 0.30528035, 0.37650569,\n",
       "       0.4380234 , 0.49146051, 0.53812399, 0.57907243, 0.61516976,\n",
       "       0.6471261 , 0.67552903, 0.70086773, 0.72355185, 0.74392631,\n",
       "       0.76228298, 0.77887009, 0.79389968, 0.80755366, 0.81998875,\n",
       "       0.83134046, 0.84172641, 0.85124905, 0.85999789, 0.86805143,\n",
       "       0.87547866, 0.88234043, 0.88869055, 0.89457673, 0.90004137,\n",
       "       0.90512225, 0.9098531 , 0.91426412, 0.91838241, 0.92223231,\n",
       "       0.92583574, 0.92921249, 0.93238045, 0.93535582, 0.9381533 ,\n",
       "       0.94078623, 0.94326677, 0.945606  , 0.94781404, 0.94990012,\n",
       "       0.95187273, 0.95373961, 0.9555079 , 0.95718414, 0.95877436,\n",
       "       0.96028413, 0.96171855, 0.96308237, 0.96437996, 0.96561537,\n",
       "       0.96679235, 0.96791438, 0.9689847 , 0.97000632, 0.97098201,\n",
       "       0.97191439, 0.97280588, 0.97365874, 0.97447508, 0.97525688,\n",
       "       0.97600597, 0.97672409, 0.97741284, 0.97807376, 0.97870824,\n",
       "       0.97931764, 0.9799032 , 0.9804661 , 0.98100744, 0.98152828,\n",
       "       0.98202958, 0.98251228, 0.98297725, 0.98342531, 0.98385723,\n",
       "       0.98427376, 0.98467558, 0.98506336, 0.9854377 , 0.98579921,\n",
       "       0.98614843, 0.9864859 , 0.98681211, 0.98712755, 0.98743265,\n",
       "       0.98772785, 0.98801355, 0.98829015, 0.988558  , 0.98881747,\n",
       "       0.98906887, 0.98931253, 0.98954875, 0.98977781, 0.99      ])"
      ]
     },
     "execution_count": 334,
     "metadata": {},
     "output_type": "execute_result"
    }
   ],
   "source": [
    "par.cdf(xs)"
   ]
  },
  {
   "cell_type": "code",
   "execution_count": 336,
   "metadata": {
    "collapsed": true
   },
   "outputs": [
    {
     "data": {
      "text/plain": [
       "array([0.00451796, 0.00465724, 0.00480205, 0.00495266, 0.00510935,\n",
       "       0.00527241, 0.00544218, 0.00561899, 0.0058032 , 0.00599518,\n",
       "       0.00619535, 0.00640412, 0.00662195, 0.00684933, 0.00708678,\n",
       "       0.00733482, 0.00759406, 0.0078651 , 0.00814861, 0.0084453 ,\n",
       "       0.00875591, 0.00908125, 0.00942218, 0.00977962, 0.01015454,\n",
       "       0.010548  , 0.01096113, 0.01139514, 0.01185132, 0.01233107,\n",
       "       0.01283588, 0.01336736, 0.01392726, 0.01451744, 0.01513991,\n",
       "       0.01579685, 0.01649061, 0.01722374, 0.01799897, 0.0188193 ,\n",
       "       0.01968795, 0.02060842, 0.02158454, 0.02262045, 0.02372065,\n",
       "       0.02489007, 0.02613409, 0.02745856, 0.02886992, 0.03037518,\n",
       "       0.03198207, 0.03369905, 0.03553544, 0.03750149, 0.03960851,\n",
       "       0.04186898, 0.04429673, 0.04690705, 0.04971693, 0.05274522,\n",
       "       0.05601293, 0.05954349, 0.06336307, 0.06750098, 0.07199006,\n",
       "       0.07686727, 0.08217417, 0.08795773, 0.09427105, 0.10117435,\n",
       "       0.10873606, 0.11703419, 0.12615784, 0.1362091 , 0.14730527,\n",
       "       0.15958152, 0.17319407, 0.18832414, 0.20518256, 0.22401557,\n",
       "       0.24511176, 0.26881078, 0.2955139 , 0.32569735, 0.35992883,\n",
       "       0.39888836, 0.44339463, 0.4944386 , 0.55322658, 0.62123588,\n",
       "       0.70028735, 0.79264068, 0.90112067, 1.02928623, 1.18165891,\n",
       "       1.36403518, 1.58391856, 1.85112482, 2.1786418 , 2.58386923])"
      ]
     },
     "execution_count": 336,
     "metadata": {},
     "output_type": "execute_result"
    }
   ],
   "source": [
    "sample_pareto"
   ]
  },
  {
   "cell_type": "code",
   "execution_count": 346,
   "metadata": {},
   "outputs": [
    {
     "data": {
      "text/plain": [
       "<matplotlib.axes._subplots.AxesSubplot at 0x11795e0f0>"
      ]
     },
     "execution_count": 346,
     "metadata": {},
     "output_type": "execute_result"
    },
    {
     "data": {
      "image/png": "[encoded data removed]",
      "text/plain": [
       "<Figure size 432x288 with 1 Axes>"
      ]
     },
     "metadata": {},
     "output_type": "display_data"
    }
   ],
   "source": [
    "# pareto cdf\n",
    "#plt.plot(xs, get_cdf(sample_pareto))\n",
    "plt.plot(xs, par.cdf(xs))\n",
    "sns.distplot(a=par.pdf(xs), hist_kws={\"cumulative\":True, 'histtype':'step'}, kde=False, norm_hist=True)"
   ]
  },
  {
   "cell_type": "code",
   "execution_count": 265,
   "metadata": {},
   "outputs": [],
   "source": [
    "ccdf_pareto = 1 - get_cdf(sample_pareto)"
   ]
  },
  {
   "cell_type": "code",
   "execution_count": 279,
   "metadata": {
    "scrolled": true
   },
   "outputs": [
    {
     "data": {
      "image/png": "[encoded data removed]",
      "text/plain": [
       "<Figure size 432x288 with 1 Axes>"
      ]
     },
     "metadata": {},
     "output_type": "display_data"
    }
   ],
   "source": [
    "\"\"\"\n",
    "Visual inspection\n",
    "Does my data follow a pareto distribution?\n",
    "\n",
    "1. Get complentary CDF or CCDF of distribution (1-CDF)\n",
    "2. Plot in loglog scale\n",
    "3. If straight line, then visually pareto is can model distribution\n",
    "\"\"\"\n",
    "\n",
    "# ideal scenario\n",
    "plt.loglog(xs, ccdf_pareto, label='pdf')\n",
    "plt.plot(xs, linear_fit(xs, ccdf_pareto), '--', label='linear fit')\n",
    "plt.tight_layout()"
   ]
  },
  {
   "cell_type": "code",
   "execution_count": 287,
   "metadata": {},
   "outputs": [
    {
     "data": {
      "text/plain": [
       "0.9700000000000001"
      ]
     },
     "execution_count": 287,
     "metadata": {},
     "output_type": "execute_result"
    }
   ],
   "source": [
    "linear_fit(xs, ccdf_pareto)"
   ]
  },
  {
   "cell_type": "code",
   "execution_count": 286,
   "metadata": {},
   "outputs": [
    {
     "data": {
      "text/plain": [
       "0.97"
      ]
     },
     "execution_count": 286,
     "metadata": {},
     "output_type": "execute_result"
    }
   ],
   "source": [
    "ccdf_pareto[2]"
   ]
  },
  {
   "cell_type": "code",
   "execution_count": null,
   "metadata": {},
   "outputs": [],
   "source": []
  }
 ],
 "metadata": {
  "kernelspec": {
   "display_name": "Python 3",
   "language": "python",
   "name": "python3"
  },
  "language_info": {
   "codemirror_mode": {
    "name": "ipython",
    "version": 3
   },
   "file_extension": ".py",
   "mimetype": "text/x-python",
   "name": "python",
   "nbconvert_exporter": "python",
   "pygments_lexer": "ipython3",
   "version": "3.6.3"
  }
 },
 "nbformat": 4,
 "nbformat_minor": 2
}
